{
 "cells": [
  {
   "cell_type": "code",
   "execution_count": 1,
   "id": "04ba5ba5-4a56-4b0f-849b-011e2c03f540",
   "metadata": {},
   "outputs": [
    {
     "name": "stdout",
     "output_type": "stream",
     "text": [
      "Ultralytics 8.3.25 🚀 Python-3.12.3 torch-2.5.1+cu124 CUDA:0 (NVIDIA GeForce GTX 1060, 6057MiB)\n",
      "\u001b[34m\u001b[1mengine/trainer: \u001b[0mtask=segment, mode=train, model=yolo11n-seg.pt, data=/home/rhichard-koh/Desktop/COSC/2. Instance SegmentationYOLO11/BRAIN-TUMOR.v1i.yolov11/data.yaml, epochs=10, time=None, patience=100, batch=16, imgsz=640, save=True, save_period=-1, cache=False, device=0, workers=8, project=None, name=train3, exist_ok=False, pretrained=True, optimizer=auto, verbose=True, seed=0, deterministic=True, single_cls=False, rect=False, cos_lr=False, close_mosaic=10, resume=False, amp=True, fraction=1.0, profile=False, freeze=None, multi_scale=False, overlap_mask=True, mask_ratio=4, dropout=0.0, val=True, split=val, save_json=False, save_hybrid=False, conf=None, iou=0.7, max_det=300, half=False, dnn=False, plots=True, source=None, vid_stride=1, stream_buffer=False, visualize=False, augment=False, agnostic_nms=False, classes=None, retina_masks=False, embed=None, show=False, save_frames=False, save_txt=False, save_conf=False, save_crop=False, show_labels=True, show_conf=True, show_boxes=True, line_width=None, format=torchscript, keras=False, optimize=False, int8=False, dynamic=False, simplify=True, opset=None, workspace=4, nms=False, lr0=0.01, lrf=0.01, momentum=0.937, weight_decay=0.0005, warmup_epochs=3.0, warmup_momentum=0.8, warmup_bias_lr=0.1, box=7.5, cls=0.5, dfl=1.5, pose=12.0, kobj=1.0, label_smoothing=0.0, nbs=64, hsv_h=0.015, hsv_s=0.7, hsv_v=0.4, degrees=0.0, translate=0.1, scale=0.5, shear=0.0, perspective=0.0, flipud=0.0, fliplr=0.5, bgr=0.0, mosaic=1.0, mixup=0.0, copy_paste=0.0, copy_paste_mode=flip, auto_augment=randaugment, erasing=0.4, crop_fraction=1.0, cfg=None, tracker=botsort.yaml, save_dir=runs/segment/train3\n",
      "Overriding model.yaml nc=80 with nc=1\n",
      "\n",
      "                   from  n    params  module                                       arguments                     \n",
      "  0                  -1  1       464  ultralytics.nn.modules.conv.Conv             [3, 16, 3, 2]                 \n",
      "  1                  -1  1      4672  ultralytics.nn.modules.conv.Conv             [16, 32, 3, 2]                \n",
      "  2                  -1  1      6640  ultralytics.nn.modules.block.C3k2            [32, 64, 1, False, 0.25]      \n",
      "  3                  -1  1     36992  ultralytics.nn.modules.conv.Conv             [64, 64, 3, 2]                \n",
      "  4                  -1  1     26080  ultralytics.nn.modules.block.C3k2            [64, 128, 1, False, 0.25]     \n",
      "  5                  -1  1    147712  ultralytics.nn.modules.conv.Conv             [128, 128, 3, 2]              \n",
      "  6                  -1  1     87040  ultralytics.nn.modules.block.C3k2            [128, 128, 1, True]           \n",
      "  7                  -1  1    295424  ultralytics.nn.modules.conv.Conv             [128, 256, 3, 2]              \n",
      "  8                  -1  1    346112  ultralytics.nn.modules.block.C3k2            [256, 256, 1, True]           \n",
      "  9                  -1  1    164608  ultralytics.nn.modules.block.SPPF            [256, 256, 5]                 \n",
      " 10                  -1  1    249728  ultralytics.nn.modules.block.C2PSA           [256, 256, 1]                 \n",
      " 11                  -1  1         0  torch.nn.modules.upsampling.Upsample         [None, 2, 'nearest']          \n",
      " 12             [-1, 6]  1         0  ultralytics.nn.modules.conv.Concat           [1]                           \n",
      " 13                  -1  1    111296  ultralytics.nn.modules.block.C3k2            [384, 128, 1, False]          \n",
      " 14                  -1  1         0  torch.nn.modules.upsampling.Upsample         [None, 2, 'nearest']          \n",
      " 15             [-1, 4]  1         0  ultralytics.nn.modules.conv.Concat           [1]                           \n",
      " 16                  -1  1     32096  ultralytics.nn.modules.block.C3k2            [256, 64, 1, False]           \n",
      " 17                  -1  1     36992  ultralytics.nn.modules.conv.Conv             [64, 64, 3, 2]                \n",
      " 18            [-1, 13]  1         0  ultralytics.nn.modules.conv.Concat           [1]                           \n",
      " 19                  -1  1     86720  ultralytics.nn.modules.block.C3k2            [192, 128, 1, False]          \n",
      " 20                  -1  1    147712  ultralytics.nn.modules.conv.Conv             [128, 128, 3, 2]              \n",
      " 21            [-1, 10]  1         0  ultralytics.nn.modules.conv.Concat           [1]                           \n",
      " 22                  -1  1    378880  ultralytics.nn.modules.block.C3k2            [384, 256, 1, True]           \n",
      " 23        [16, 19, 22]  1    683635  ultralytics.nn.modules.head.Segment          [1, 32, 64, [64, 128, 256]]   \n",
      "YOLO11n-seg summary: 355 layers, 2,842,803 parameters, 2,842,787 gradients, 10.4 GFLOPs\n",
      "\n",
      "Transferred 510/561 items from pretrained weights\n",
      "Freezing layer 'model.23.dfl.conv.weight'\n",
      "\u001b[34m\u001b[1mAMP: \u001b[0mrunning Automatic Mixed Precision (AMP) checks...\n",
      "\u001b[34m\u001b[1mAMP: \u001b[0mchecks passed ✅\n"
     ]
    },
    {
     "name": "stderr",
     "output_type": "stream",
     "text": [
      "\u001b[34m\u001b[1mtrain: \u001b[0mScanning /home/rhichard-koh/Desktop/COSC/2. Instance SegmentationYOLO11/BRAIN-TUMOR.v1i.yolov11/train/labels.cache... 583 images, 2 backgrounds, 0 corrupt: 100%|██████████| 583/583 [00:00<?, ?it/s]\n",
      "\u001b[34m\u001b[1mval: \u001b[0mScanning /home/rhichard-koh/Desktop/COSC/2. Instance SegmentationYOLO11/BRAIN-TUMOR.v1i.yolov11/valid/labels.cache... 123 images, 1 backgrounds, 0 corrupt: 100%|██████████| 123/123 [00:00<?, ?it/s]\n"
     ]
    },
    {
     "name": "stdout",
     "output_type": "stream",
     "text": [
      "Plotting labels to runs/segment/train3/labels.jpg... \n",
      "\u001b[34m\u001b[1moptimizer:\u001b[0m 'optimizer=auto' found, ignoring 'lr0=0.01' and 'momentum=0.937' and determining best 'optimizer', 'lr0' and 'momentum' automatically... \n",
      "\u001b[34m\u001b[1moptimizer:\u001b[0m AdamW(lr=0.002, momentum=0.9) with parameter groups 90 weight(decay=0.0), 101 weight(decay=0.0005), 100 bias(decay=0.0)\n",
      "Image sizes 640 train, 640 val\n",
      "Using 8 dataloader workers\n",
      "Logging results to \u001b[1mruns/segment/train3\u001b[0m\n",
      "Starting training for 10 epochs...\n",
      "Closing dataloader mosaic\n",
      "\n",
      "      Epoch    GPU_mem   box_loss   seg_loss   cls_loss   dfl_loss  Instances       Size\n"
     ]
    },
    {
     "name": "stderr",
     "output_type": "stream",
     "text": [
      "       1/10      3.19G      1.119      2.525      3.111       1.36          7        640: 100%|██████████| 37/37 [00:26<00:00,  1.40it/s]\n",
      "                 Class     Images  Instances      Box(P          R      mAP50  mAP50-95)     Mask(P          R      mAP50  mAP50-95): 100%|██████████| 4/4 [00:02<00:00,  1.46it/s]"
     ]
    },
    {
     "name": "stdout",
     "output_type": "stream",
     "text": [
      "                   all        123        126          1      0.395      0.833      0.556          1      0.395      0.837       0.53\n"
     ]
    },
    {
     "name": "stderr",
     "output_type": "stream",
     "text": [
      "\n"
     ]
    },
    {
     "name": "stdout",
     "output_type": "stream",
     "text": [
      "\n",
      "      Epoch    GPU_mem   box_loss   seg_loss   cls_loss   dfl_loss  Instances       Size\n"
     ]
    },
    {
     "name": "stderr",
     "output_type": "stream",
     "text": [
      "       2/10      3.18G       1.07      1.806      2.048      1.267          7        640: 100%|██████████| 37/37 [00:25<00:00,  1.47it/s]\n",
      "                 Class     Images  Instances      Box(P          R      mAP50  mAP50-95)     Mask(P          R      mAP50  mAP50-95): 100%|██████████| 4/4 [00:02<00:00,  1.46it/s]"
     ]
    },
    {
     "name": "stdout",
     "output_type": "stream",
     "text": [
      "                   all        123        126      0.845      0.433      0.646        0.4      0.861      0.444      0.652      0.367\n"
     ]
    },
    {
     "name": "stderr",
     "output_type": "stream",
     "text": [
      "\n"
     ]
    },
    {
     "name": "stdout",
     "output_type": "stream",
     "text": [
      "\n",
      "      Epoch    GPU_mem   box_loss   seg_loss   cls_loss   dfl_loss  Instances       Size\n"
     ]
    },
    {
     "name": "stderr",
     "output_type": "stream",
     "text": [
      "       3/10      3.17G       1.12      1.761      1.788       1.27          7        640: 100%|██████████| 37/37 [00:25<00:00,  1.47it/s]\n",
      "                 Class     Images  Instances      Box(P          R      mAP50  mAP50-95)     Mask(P          R      mAP50  mAP50-95): 100%|██████████| 4/4 [00:02<00:00,  1.44it/s]"
     ]
    },
    {
     "name": "stdout",
     "output_type": "stream",
     "text": [
      "                   all        123        126      0.806      0.855      0.845      0.512      0.798      0.847       0.81      0.436\n"
     ]
    },
    {
     "name": "stderr",
     "output_type": "stream",
     "text": [
      "\n"
     ]
    },
    {
     "name": "stdout",
     "output_type": "stream",
     "text": [
      "\n",
      "      Epoch    GPU_mem   box_loss   seg_loss   cls_loss   dfl_loss  Instances       Size\n"
     ]
    },
    {
     "name": "stderr",
     "output_type": "stream",
     "text": [
      "       4/10      3.18G      1.062      1.756      1.452       1.23          7        640: 100%|██████████| 37/37 [00:25<00:00,  1.46it/s]\n",
      "                 Class     Images  Instances      Box(P          R      mAP50  mAP50-95)     Mask(P          R      mAP50  mAP50-95): 100%|██████████| 4/4 [00:02<00:00,  1.44it/s]"
     ]
    },
    {
     "name": "stdout",
     "output_type": "stream",
     "text": [
      "                   all        123        126      0.645      0.627      0.698      0.449      0.644      0.627      0.692      0.394\n"
     ]
    },
    {
     "name": "stderr",
     "output_type": "stream",
     "text": [
      "\n"
     ]
    },
    {
     "name": "stdout",
     "output_type": "stream",
     "text": [
      "\n",
      "      Epoch    GPU_mem   box_loss   seg_loss   cls_loss   dfl_loss  Instances       Size\n"
     ]
    },
    {
     "name": "stderr",
     "output_type": "stream",
     "text": [
      "       5/10      3.17G     0.9769      1.645      1.254      1.181          7        640: 100%|██████████| 37/37 [00:25<00:00,  1.45it/s]\n",
      "                 Class     Images  Instances      Box(P          R      mAP50  mAP50-95)     Mask(P          R      mAP50  mAP50-95): 100%|██████████| 4/4 [00:02<00:00,  1.39it/s]"
     ]
    },
    {
     "name": "stdout",
     "output_type": "stream",
     "text": [
      "                   all        123        126      0.857      0.907      0.929      0.625      0.868      0.891      0.923      0.583\n"
     ]
    },
    {
     "name": "stderr",
     "output_type": "stream",
     "text": [
      "\n"
     ]
    },
    {
     "name": "stdout",
     "output_type": "stream",
     "text": [
      "\n",
      "      Epoch    GPU_mem   box_loss   seg_loss   cls_loss   dfl_loss  Instances       Size\n"
     ]
    },
    {
     "name": "stderr",
     "output_type": "stream",
     "text": [
      "       6/10      3.24G     0.9556      1.579      1.085      1.152          8        640: 100%|██████████| 37/37 [00:25<00:00,  1.43it/s]\n",
      "                 Class     Images  Instances      Box(P          R      mAP50  mAP50-95)     Mask(P          R      mAP50  mAP50-95): 100%|██████████| 4/4 [00:02<00:00,  1.43it/s]"
     ]
    },
    {
     "name": "stdout",
     "output_type": "stream",
     "text": [
      "                   all        123        126      0.925       0.96      0.973      0.681      0.925       0.96      0.973      0.698\n"
     ]
    },
    {
     "name": "stderr",
     "output_type": "stream",
     "text": [
      "\n"
     ]
    },
    {
     "name": "stdout",
     "output_type": "stream",
     "text": [
      "\n",
      "      Epoch    GPU_mem   box_loss   seg_loss   cls_loss   dfl_loss  Instances       Size\n"
     ]
    },
    {
     "name": "stderr",
     "output_type": "stream",
     "text": [
      "       7/10      3.24G     0.9423      1.522     0.9539       1.15          8        640: 100%|██████████| 37/37 [00:25<00:00,  1.44it/s]\n",
      "                 Class     Images  Instances      Box(P          R      mAP50  mAP50-95)     Mask(P          R      mAP50  mAP50-95): 100%|██████████| 4/4 [00:02<00:00,  1.43it/s]"
     ]
    },
    {
     "name": "stdout",
     "output_type": "stream",
     "text": [
      "                   all        123        126      0.958       0.96      0.979      0.684      0.958       0.96      0.979      0.702\n"
     ]
    },
    {
     "name": "stderr",
     "output_type": "stream",
     "text": [
      "\n"
     ]
    },
    {
     "name": "stdout",
     "output_type": "stream",
     "text": [
      "\n",
      "      Epoch    GPU_mem   box_loss   seg_loss   cls_loss   dfl_loss  Instances       Size\n"
     ]
    },
    {
     "name": "stderr",
     "output_type": "stream",
     "text": [
      "       8/10      3.18G     0.8772      1.444     0.8611      1.097          7        640: 100%|██████████| 37/37 [00:25<00:00,  1.43it/s]\n",
      "                 Class     Images  Instances      Box(P          R      mAP50  mAP50-95)     Mask(P          R      mAP50  mAP50-95): 100%|██████████| 4/4 [00:02<00:00,  1.43it/s]"
     ]
    },
    {
     "name": "stdout",
     "output_type": "stream",
     "text": [
      "                   all        123        126      0.959      0.976      0.974      0.744      0.959      0.976      0.974       0.72\n"
     ]
    },
    {
     "name": "stderr",
     "output_type": "stream",
     "text": [
      "\n"
     ]
    },
    {
     "name": "stdout",
     "output_type": "stream",
     "text": [
      "\n",
      "      Epoch    GPU_mem   box_loss   seg_loss   cls_loss   dfl_loss  Instances       Size\n"
     ]
    },
    {
     "name": "stderr",
     "output_type": "stream",
     "text": [
      "       9/10      3.17G     0.8326      1.372     0.7919      1.089          8        640: 100%|██████████| 37/37 [00:26<00:00,  1.42it/s]\n",
      "                 Class     Images  Instances      Box(P          R      mAP50  mAP50-95)     Mask(P          R      mAP50  mAP50-95): 100%|██████████| 4/4 [00:02<00:00,  1.44it/s]"
     ]
    },
    {
     "name": "stdout",
     "output_type": "stream",
     "text": [
      "                   all        123        126       0.98      0.968      0.988      0.772       0.98      0.968      0.988      0.752\n"
     ]
    },
    {
     "name": "stderr",
     "output_type": "stream",
     "text": [
      "\n"
     ]
    },
    {
     "name": "stdout",
     "output_type": "stream",
     "text": [
      "\n",
      "      Epoch    GPU_mem   box_loss   seg_loss   cls_loss   dfl_loss  Instances       Size\n"
     ]
    },
    {
     "name": "stderr",
     "output_type": "stream",
     "text": [
      "      10/10      3.24G     0.7866      1.284     0.7417      1.054          7        640: 100%|██████████| 37/37 [00:26<00:00,  1.40it/s]\n",
      "                 Class     Images  Instances      Box(P          R      mAP50  mAP50-95)     Mask(P          R      mAP50  mAP50-95): 100%|██████████| 4/4 [00:02<00:00,  1.39it/s]"
     ]
    },
    {
     "name": "stdout",
     "output_type": "stream",
     "text": [
      "                   all        123        126      0.967      0.984      0.988      0.767      0.967      0.984      0.988      0.756\n"
     ]
    },
    {
     "name": "stderr",
     "output_type": "stream",
     "text": [
      "\n"
     ]
    },
    {
     "name": "stdout",
     "output_type": "stream",
     "text": [
      "\n",
      "10 epochs completed in 0.081 hours.\n",
      "Optimizer stripped from runs/segment/train3/weights/last.pt, 6.0MB\n",
      "Optimizer stripped from runs/segment/train3/weights/best.pt, 6.0MB\n",
      "\n",
      "Validating runs/segment/train3/weights/best.pt...\n",
      "Ultralytics 8.3.25 🚀 Python-3.12.3 torch-2.5.1+cu124 CUDA:0 (NVIDIA GeForce GTX 1060, 6057MiB)\n",
      "YOLO11n-seg summary (fused): 265 layers, 2,834,763 parameters, 0 gradients, 10.2 GFLOPs\n"
     ]
    },
    {
     "name": "stderr",
     "output_type": "stream",
     "text": [
      "                 Class     Images  Instances      Box(P          R      mAP50  mAP50-95)     Mask(P          R      mAP50  mAP50-95): 100%|██████████| 4/4 [00:03<00:00,  1.14it/s]\n"
     ]
    },
    {
     "name": "stdout",
     "output_type": "stream",
     "text": [
      "                   all        123        126       0.98      0.968      0.988      0.773       0.98      0.968      0.988      0.752\n",
      "Speed: 0.5ms preprocess, 15.4ms inference, 0.0ms loss, 2.1ms postprocess per image\n",
      "Results saved to \u001b[1mruns/segment/train3\u001b[0m\n"
     ]
    }
   ],
   "source": [
    "from ultralytics import YOLO\n",
    "\n",
    "# Load a model\n",
    "model = YOLO(\"yolo11n-seg.pt\")\n",
    "\n",
    "# Train the model\n",
    "train_results = model.train(\n",
    "    data=\"/home/rhichard-koh/Desktop/COSC/2. Instance SegmentationYOLO11/BRAIN-TUMOR.v1i.yolov11/data.yaml\",  # path to dataset YAML\n",
    "    epochs=10,  # number of training epochs\n",
    "    imgsz=640,  # training image size\n",
    "    device=0,  # device to run on, i.e. device=0 or device=0,1,2,3 or device=cpu\n",
    ")\n"
   ]
  },
  {
   "cell_type": "code",
   "execution_count": null,
   "id": "5d33042f-2b7d-41b0-9068-bbb541cc64f0",
   "metadata": {},
   "outputs": [],
   "source": []
  },
  {
   "cell_type": "code",
   "execution_count": 3,
   "id": "c71339a3-8fec-4732-b1f4-41dde923ad03",
   "metadata": {},
   "outputs": [
    {
     "name": "stdout",
     "output_type": "stream",
     "text": [
      "\n",
      "image 1/1 /home/rhichard-koh/Desktop/COSC/2. Instance SegmentationYOLO11/BRAIN-TUMOR.v1i.yolov11/test/images/y2_jpg.rf.f92efc4de05a488452943801fa495bdc.jpg: 640x640 1 tumor, 12.4ms\n",
      "Speed: 1.6ms preprocess, 12.4ms inference, 3.6ms postprocess per image at shape (1, 3, 640, 640)\n",
      "Results saved to \u001b[1mruns/segment/predict\u001b[0m\n"
     ]
    },
    {
     "name": "stderr",
     "output_type": "stream",
     "text": [
      "** Message: 19:18:47.500: main.vala:507: Starting session with system profile\n"
     ]
    }
   ],
   "source": [
    "model = YOLO('runs/segment/train3/weights/best.pt')\n",
    "results = model(\"BRAIN-TUMOR.v1i.yolov11/test/images/y2_jpg.rf.f92efc4de05a488452943801fa495bdc.jpg\", save=True)\n",
    "results[0].show()"
   ]
  },
  {
   "cell_type": "code",
   "execution_count": 4,
   "id": "1469d0a6-ed4d-4407-ba84-1dd2e83fe6be",
   "metadata": {},
   "outputs": [
    {
     "name": "stdout",
     "output_type": "stream",
     "text": [
      "\n",
      "image 1/128 /home/rhichard-koh/Desktop/COSC/2. Instance SegmentationYOLO11/BRAIN-TUMOR.v1i.yolov11/test/images/y154_jpg.rf.bcc8bca03d5c754b1c3fecab26584b79.jpg: 640x640 1 tumor, 12.3ms\n",
      "image 2/128 /home/rhichard-koh/Desktop/COSC/2. Instance SegmentationYOLO11/BRAIN-TUMOR.v1i.yolov11/test/images/y172_jpg.rf.1de5e52261087615739339dfec693873.jpg: 640x640 1 tumor, 11.9ms\n",
      "image 3/128 /home/rhichard-koh/Desktop/COSC/2. Instance SegmentationYOLO11/BRAIN-TUMOR.v1i.yolov11/test/images/y17_jpg.rf.00e73d21eb12c3ad8e3cb3b5a87805b8.jpg: 640x640 1 tumor, 12.5ms\n",
      "image 4/128 /home/rhichard-koh/Desktop/COSC/2. Instance SegmentationYOLO11/BRAIN-TUMOR.v1i.yolov11/test/images/y192_jpg.rf.d4ef756fbf9c0fd35dc411b61f8aa184.jpg: 640x640 1 tumor, 11.6ms\n",
      "image 5/128 /home/rhichard-koh/Desktop/COSC/2. Instance SegmentationYOLO11/BRAIN-TUMOR.v1i.yolov11/test/images/y193_jpg.rf.898204dcdfcff60fff55f3734567e205.jpg: 640x640 1 tumor, 10.2ms\n",
      "image 6/128 /home/rhichard-koh/Desktop/COSC/2. Instance SegmentationYOLO11/BRAIN-TUMOR.v1i.yolov11/test/images/y193_jpg.rf.d75ad28b5fae3f14d696dfc98ef3d326.jpg: 640x640 1 tumor, 11.2ms\n",
      "image 7/128 /home/rhichard-koh/Desktop/COSC/2. Instance SegmentationYOLO11/BRAIN-TUMOR.v1i.yolov11/test/images/y196_jpg.rf.cb679791b2f16798391d0a24d51aca4c.jpg: 640x640 1 tumor, 12.8ms\n",
      "image 8/128 /home/rhichard-koh/Desktop/COSC/2. Instance SegmentationYOLO11/BRAIN-TUMOR.v1i.yolov11/test/images/y197_jpg.rf.bf846157858d9835059250fd69f91316.jpg: 640x640 1 tumor, 11.4ms\n",
      "image 9/128 /home/rhichard-koh/Desktop/COSC/2. Instance SegmentationYOLO11/BRAIN-TUMOR.v1i.yolov11/test/images/y203_jpg.rf.5eac47d062461c86f0e045bc27423a8b.jpg: 640x640 1 tumor, 9.7ms\n",
      "image 10/128 /home/rhichard-koh/Desktop/COSC/2. Instance SegmentationYOLO11/BRAIN-TUMOR.v1i.yolov11/test/images/y206_jpg.rf.02264d8bb70ebe5362289d7e7530bf0a.jpg: 640x640 1 tumor, 10.0ms\n",
      "image 11/128 /home/rhichard-koh/Desktop/COSC/2. Instance SegmentationYOLO11/BRAIN-TUMOR.v1i.yolov11/test/images/y20_jpg.rf.abe2b70248a1bbf48d3ffda9eee6cdc6.jpg: 640x640 1 tumor, 10.6ms\n",
      "image 12/128 /home/rhichard-koh/Desktop/COSC/2. Instance SegmentationYOLO11/BRAIN-TUMOR.v1i.yolov11/test/images/y211_jpg.rf.5618bdef34e0601650594f5158677445.jpg: 640x640 2 tumors, 11.1ms\n",
      "image 13/128 /home/rhichard-koh/Desktop/COSC/2. Instance SegmentationYOLO11/BRAIN-TUMOR.v1i.yolov11/test/images/y212_jpg.rf.72e45d9e3c51f671de6d8ed263be0297.jpg: 640x640 2 tumors, 9.6ms\n",
      "image 14/128 /home/rhichard-koh/Desktop/COSC/2. Instance SegmentationYOLO11/BRAIN-TUMOR.v1i.yolov11/test/images/y214_jpg.rf.244d5cc7656fd8439aa380e5f4fdc68d.jpg: 640x640 1 tumor, 10.4ms\n",
      "image 15/128 /home/rhichard-koh/Desktop/COSC/2. Instance SegmentationYOLO11/BRAIN-TUMOR.v1i.yolov11/test/images/y215_jpg.rf.e347e755cb90faf7edf47c621b4a8304.jpg: 640x640 1 tumor, 10.0ms\n",
      "image 16/128 /home/rhichard-koh/Desktop/COSC/2. Instance SegmentationYOLO11/BRAIN-TUMOR.v1i.yolov11/test/images/y219_jpg.rf.ac80414e9b84b3412c3c103d1085e9ea.jpg: 640x640 2 tumors, 10.0ms\n",
      "image 17/128 /home/rhichard-koh/Desktop/COSC/2. Instance SegmentationYOLO11/BRAIN-TUMOR.v1i.yolov11/test/images/y220_jpg.rf.684cb074b0e09de8fef68a8dd70091af.jpg: 640x640 1 tumor, 10.0ms\n",
      "image 18/128 /home/rhichard-koh/Desktop/COSC/2. Instance SegmentationYOLO11/BRAIN-TUMOR.v1i.yolov11/test/images/y223_jpg.rf.44024f50537bf35346784d297c0f5db0.jpg: 640x640 1 tumor, 9.5ms\n",
      "image 19/128 /home/rhichard-koh/Desktop/COSC/2. Instance SegmentationYOLO11/BRAIN-TUMOR.v1i.yolov11/test/images/y226_jpg.rf.8f8ec16eae5bae2efaccbd472f12527d.jpg: 640x640 1 tumor, 9.3ms\n",
      "image 20/128 /home/rhichard-koh/Desktop/COSC/2. Instance SegmentationYOLO11/BRAIN-TUMOR.v1i.yolov11/test/images/y227_jpg.rf.11f39bafa70f0fd3cbc2789e938bdf66.jpg: 640x640 1 tumor, 10.3ms\n",
      "image 21/128 /home/rhichard-koh/Desktop/COSC/2. Instance SegmentationYOLO11/BRAIN-TUMOR.v1i.yolov11/test/images/y229_jpg.rf.f11e50c33cad130ec0ab336855b9f612.jpg: 640x640 1 tumor, 9.7ms\n",
      "image 22/128 /home/rhichard-koh/Desktop/COSC/2. Instance SegmentationYOLO11/BRAIN-TUMOR.v1i.yolov11/test/images/y22_jpg.rf.59b3ba18ecb188d38b3009454c9dfa71.jpg: 640x640 1 tumor, 9.8ms\n",
      "image 23/128 /home/rhichard-koh/Desktop/COSC/2. Instance SegmentationYOLO11/BRAIN-TUMOR.v1i.yolov11/test/images/y231_jpg.rf.633aad1328d31df7b58f34b642a6d977.jpg: 640x640 1 tumor, 10.4ms\n",
      "image 24/128 /home/rhichard-koh/Desktop/COSC/2. Instance SegmentationYOLO11/BRAIN-TUMOR.v1i.yolov11/test/images/y235_jpg.rf.d17d7d777e29cd3d513dc42ad9f7fee8.jpg: 640x640 1 tumor, 9.8ms\n",
      "image 25/128 /home/rhichard-koh/Desktop/COSC/2. Instance SegmentationYOLO11/BRAIN-TUMOR.v1i.yolov11/test/images/y237_jpg.rf.f491881ce7419f0c3a71edf48beb9d54.jpg: 640x640 1 tumor, 9.2ms\n",
      "image 26/128 /home/rhichard-koh/Desktop/COSC/2. Instance SegmentationYOLO11/BRAIN-TUMOR.v1i.yolov11/test/images/y244_jpg.rf.031e9996257d2c1a6edaf922d0ceac52.jpg: 640x640 1 tumor, 10.3ms\n",
      "image 27/128 /home/rhichard-koh/Desktop/COSC/2. Instance SegmentationYOLO11/BRAIN-TUMOR.v1i.yolov11/test/images/y246_jpg.rf.a5c845a5035a9d67f582ebb77c7827d8.jpg: 640x640 1 tumor, 10.5ms\n",
      "image 28/128 /home/rhichard-koh/Desktop/COSC/2. Instance SegmentationYOLO11/BRAIN-TUMOR.v1i.yolov11/test/images/y248_jpg.rf.7dcf3f7d8994dc70806cfd621f314d4d.jpg: 640x640 1 tumor, 9.2ms\n",
      "image 29/128 /home/rhichard-koh/Desktop/COSC/2. Instance SegmentationYOLO11/BRAIN-TUMOR.v1i.yolov11/test/images/y24_jpg.rf.fb38d2fa2d2a65044130bd1d2b60bb7b.jpg: 640x640 1 tumor, 10.2ms\n",
      "image 30/128 /home/rhichard-koh/Desktop/COSC/2. Instance SegmentationYOLO11/BRAIN-TUMOR.v1i.yolov11/test/images/y261_jpg.rf.6f30895866da1338aaba2e7bc18bd121.jpg: 640x640 1 tumor, 10.4ms\n",
      "image 31/128 /home/rhichard-koh/Desktop/COSC/2. Instance SegmentationYOLO11/BRAIN-TUMOR.v1i.yolov11/test/images/y266_jpg.rf.326237ba8d9f2fdce729c716037af1a2.jpg: 640x640 1 tumor, 9.7ms\n",
      "image 32/128 /home/rhichard-koh/Desktop/COSC/2. Instance SegmentationYOLO11/BRAIN-TUMOR.v1i.yolov11/test/images/y267_jpg.rf.76371ddcabe9b93737a5acfa27696139.jpg: 640x640 1 tumor, 11.0ms\n",
      "image 33/128 /home/rhichard-koh/Desktop/COSC/2. Instance SegmentationYOLO11/BRAIN-TUMOR.v1i.yolov11/test/images/y269_jpg.rf.62ff6005a58f4597068ab801b1159052.jpg: 640x640 1 tumor, 10.4ms\n",
      "image 34/128 /home/rhichard-koh/Desktop/COSC/2. Instance SegmentationYOLO11/BRAIN-TUMOR.v1i.yolov11/test/images/y26_jpg.rf.66a4e14672f412fba179aeb51d6ea3b9.jpg: 640x640 1 tumor, 9.2ms\n",
      "image 35/128 /home/rhichard-koh/Desktop/COSC/2. Instance SegmentationYOLO11/BRAIN-TUMOR.v1i.yolov11/test/images/y26_jpg.rf.dd06fd7b365d8bf711ba41520674c071.jpg: 640x640 1 tumor, 9.4ms\n",
      "image 36/128 /home/rhichard-koh/Desktop/COSC/2. Instance SegmentationYOLO11/BRAIN-TUMOR.v1i.yolov11/test/images/y272_jpg.rf.6e2ed670212f69c6369b1556fca416e6.jpg: 640x640 1 tumor, 10.3ms\n",
      "image 37/128 /home/rhichard-koh/Desktop/COSC/2. Instance SegmentationYOLO11/BRAIN-TUMOR.v1i.yolov11/test/images/y279_jpg.rf.5b48d6a2ddd7e9e798c10cb38cb4fa4f.jpg: 640x640 1 tumor, 9.8ms\n",
      "image 38/128 /home/rhichard-koh/Desktop/COSC/2. Instance SegmentationYOLO11/BRAIN-TUMOR.v1i.yolov11/test/images/y282_jpg.rf.f4da8c9c6ea22c3a69cd5ab050b40d8b.jpg: 640x640 1 tumor, 9.3ms\n",
      "image 39/128 /home/rhichard-koh/Desktop/COSC/2. Instance SegmentationYOLO11/BRAIN-TUMOR.v1i.yolov11/test/images/y283_jpg.rf.28b3fbe1525e7964519dda3080b9fa53.jpg: 640x640 2 tumors, 10.3ms\n",
      "image 40/128 /home/rhichard-koh/Desktop/COSC/2. Instance SegmentationYOLO11/BRAIN-TUMOR.v1i.yolov11/test/images/y289_jpg.rf.444e0ab4dad155a2a5bea5d92abc0a8c.jpg: 640x640 4 tumors, 9.1ms\n",
      "image 41/128 /home/rhichard-koh/Desktop/COSC/2. Instance SegmentationYOLO11/BRAIN-TUMOR.v1i.yolov11/test/images/y294_jpg.rf.c7c142e2e0915b1b056bf923028eacb6.jpg: 640x640 1 tumor, 10.0ms\n",
      "image 42/128 /home/rhichard-koh/Desktop/COSC/2. Instance SegmentationYOLO11/BRAIN-TUMOR.v1i.yolov11/test/images/y296_jpg.rf.3d88c811992e05bf8555fb4a609d7d9d.jpg: 640x640 1 tumor, 9.9ms\n",
      "image 43/128 /home/rhichard-koh/Desktop/COSC/2. Instance SegmentationYOLO11/BRAIN-TUMOR.v1i.yolov11/test/images/y2_jpg.rf.f92efc4de05a488452943801fa495bdc.jpg: 640x640 1 tumor, 9.1ms\n",
      "image 44/128 /home/rhichard-koh/Desktop/COSC/2. Instance SegmentationYOLO11/BRAIN-TUMOR.v1i.yolov11/test/images/y305_jpg.rf.233cd3ed359d9cfd5412054ca049273a.jpg: 640x640 1 tumor, 9.3ms\n",
      "image 45/128 /home/rhichard-koh/Desktop/COSC/2. Instance SegmentationYOLO11/BRAIN-TUMOR.v1i.yolov11/test/images/y309_jpg.rf.fa802ea409762eef0c388abb0a695142.jpg: 640x640 1 tumor, 10.4ms\n",
      "image 46/128 /home/rhichard-koh/Desktop/COSC/2. Instance SegmentationYOLO11/BRAIN-TUMOR.v1i.yolov11/test/images/y30_jpg.rf.cd9f90bf00a006857cdf05cc96b282aa.jpg: 640x640 1 tumor, 9.4ms\n",
      "image 47/128 /home/rhichard-koh/Desktop/COSC/2. Instance SegmentationYOLO11/BRAIN-TUMOR.v1i.yolov11/test/images/y310_jpg.rf.269ddd9ea2cf02a25d8174e4ab638af8.jpg: 640x640 1 tumor, 9.4ms\n",
      "image 48/128 /home/rhichard-koh/Desktop/COSC/2. Instance SegmentationYOLO11/BRAIN-TUMOR.v1i.yolov11/test/images/y311_jpg.rf.4b32f6b249f67a750b8faf890691b97a.jpg: 640x640 1 tumor, 11.3ms\n",
      "image 49/128 /home/rhichard-koh/Desktop/COSC/2. Instance SegmentationYOLO11/BRAIN-TUMOR.v1i.yolov11/test/images/y315_jpg.rf.1ead04a8b525f82851025faf2c132162.jpg: 640x640 1 tumor, 9.8ms\n",
      "image 50/128 /home/rhichard-koh/Desktop/COSC/2. Instance SegmentationYOLO11/BRAIN-TUMOR.v1i.yolov11/test/images/y316_jpg.rf.4338feb98a8ddb36520f97e818d14372.jpg: 640x640 1 tumor, 9.1ms\n",
      "image 51/128 /home/rhichard-koh/Desktop/COSC/2. Instance SegmentationYOLO11/BRAIN-TUMOR.v1i.yolov11/test/images/y316_jpg.rf.57790816d63301124e5dc711f0b23cfe.jpg: 640x640 1 tumor, 9.4ms\n",
      "image 52/128 /home/rhichard-koh/Desktop/COSC/2. Instance SegmentationYOLO11/BRAIN-TUMOR.v1i.yolov11/test/images/y318_jpg.rf.420f9a3ca03934f198e7e12e0cc58136.jpg: 640x640 1 tumor, 10.6ms\n",
      "image 53/128 /home/rhichard-koh/Desktop/COSC/2. Instance SegmentationYOLO11/BRAIN-TUMOR.v1i.yolov11/test/images/y322_jpg.rf.4ab8c0d2780a164e9df1b67a6c2550f8.jpg: 640x640 1 tumor, 9.4ms\n",
      "image 54/128 /home/rhichard-koh/Desktop/COSC/2. Instance SegmentationYOLO11/BRAIN-TUMOR.v1i.yolov11/test/images/y323_jpg.rf.c53b12339c3892e2b87d01be520b3267.jpg: 640x640 1 tumor, 9.3ms\n",
      "image 55/128 /home/rhichard-koh/Desktop/COSC/2. Instance SegmentationYOLO11/BRAIN-TUMOR.v1i.yolov11/test/images/y326_jpg.rf.978f2905f563c0d4322b2e107ee461e9.jpg: 640x640 1 tumor, 9.6ms\n",
      "image 56/128 /home/rhichard-koh/Desktop/COSC/2. Instance SegmentationYOLO11/BRAIN-TUMOR.v1i.yolov11/test/images/y327_jpg.rf.b86897387e9a4b9e989ffc7534f87684.jpg: 640x640 1 tumor, 10.4ms\n",
      "image 57/128 /home/rhichard-koh/Desktop/COSC/2. Instance SegmentationYOLO11/BRAIN-TUMOR.v1i.yolov11/test/images/y327_jpg.rf.dd30f7adc2ab3459012655a8c4a9e629.jpg: 640x640 1 tumor, 9.5ms\n",
      "image 58/128 /home/rhichard-koh/Desktop/COSC/2. Instance SegmentationYOLO11/BRAIN-TUMOR.v1i.yolov11/test/images/y32_jpg.rf.58915b076e574e95bfb325099e2d099d.jpg: 640x640 2 tumors, 9.2ms\n",
      "image 59/128 /home/rhichard-koh/Desktop/COSC/2. Instance SegmentationYOLO11/BRAIN-TUMOR.v1i.yolov11/test/images/y32_jpg.rf.5beeadc805866ea97b8b0e8f1a16bbba.jpg: 640x640 1 tumor, 10.0ms\n",
      "image 60/128 /home/rhichard-koh/Desktop/COSC/2. Instance SegmentationYOLO11/BRAIN-TUMOR.v1i.yolov11/test/images/y330_jpg.rf.2235d8718d96ad475f6a1029248a1661.jpg: 640x640 1 tumor, 10.2ms\n",
      "image 61/128 /home/rhichard-koh/Desktop/COSC/2. Instance SegmentationYOLO11/BRAIN-TUMOR.v1i.yolov11/test/images/y330_jpg.rf.5daeb3680ba3519fce1bd7707bf71f56.jpg: 640x640 1 tumor, 9.1ms\n",
      "image 62/128 /home/rhichard-koh/Desktop/COSC/2. Instance SegmentationYOLO11/BRAIN-TUMOR.v1i.yolov11/test/images/y331_jpg.rf.ed3c8aac557cff03f043e31d5e82a350.jpg: 640x640 1 tumor, 10.0ms\n",
      "image 63/128 /home/rhichard-koh/Desktop/COSC/2. Instance SegmentationYOLO11/BRAIN-TUMOR.v1i.yolov11/test/images/y333_jpg.rf.3331fae0d26f43cf96cafebdecc887cb.jpg: 640x640 1 tumor, 10.2ms\n",
      "image 64/128 /home/rhichard-koh/Desktop/COSC/2. Instance SegmentationYOLO11/BRAIN-TUMOR.v1i.yolov11/test/images/y337_jpg.rf.2750a002c017b8da67ec976030deae36.jpg: 640x640 1 tumor, 9.4ms\n",
      "image 65/128 /home/rhichard-koh/Desktop/COSC/2. Instance SegmentationYOLO11/BRAIN-TUMOR.v1i.yolov11/test/images/y338_jpg.rf.0b9fb9f5c963c8416cc9b0a25f9745a2.jpg: 640x640 1 tumor, 9.9ms\n",
      "image 66/128 /home/rhichard-koh/Desktop/COSC/2. Instance SegmentationYOLO11/BRAIN-TUMOR.v1i.yolov11/test/images/y341_jpg.rf.d8052fe825c7e1a4b54d8a6554890c6f.jpg: 640x640 1 tumor, 10.5ms\n",
      "image 67/128 /home/rhichard-koh/Desktop/COSC/2. Instance SegmentationYOLO11/BRAIN-TUMOR.v1i.yolov11/test/images/y343_jpg.rf.f903bcba48e618bb3b72391f5f3ae335.jpg: 640x640 1 tumor, 9.5ms\n",
      "image 68/128 /home/rhichard-koh/Desktop/COSC/2. Instance SegmentationYOLO11/BRAIN-TUMOR.v1i.yolov11/test/images/y347_jpg.rf.104b5ac5068a6635c3f1ca953e48f9c2.jpg: 640x640 1 tumor, 9.1ms\n",
      "image 69/128 /home/rhichard-koh/Desktop/COSC/2. Instance SegmentationYOLO11/BRAIN-TUMOR.v1i.yolov11/test/images/y351_jpg.rf.c8826b13fad491ee45eadc33d53760be.jpg: 640x640 1 tumor, 10.2ms\n",
      "image 70/128 /home/rhichard-koh/Desktop/COSC/2. Instance SegmentationYOLO11/BRAIN-TUMOR.v1i.yolov11/test/images/y354_jpg.rf.74e6917bd94ec01a28ca0e86550174aa.jpg: 640x640 1 tumor, 10.2ms\n",
      "image 71/128 /home/rhichard-koh/Desktop/COSC/2. Instance SegmentationYOLO11/BRAIN-TUMOR.v1i.yolov11/test/images/y355_jpg.rf.79836173df56f2ed07ae6d67dcac356e.jpg: 640x640 1 tumor, 9.5ms\n",
      "image 72/128 /home/rhichard-koh/Desktop/COSC/2. Instance SegmentationYOLO11/BRAIN-TUMOR.v1i.yolov11/test/images/y357_jpg.rf.8444d4d1cf7674984cd3f09a65076726.jpg: 640x640 1 tumor, 11.0ms\n",
      "image 73/128 /home/rhichard-koh/Desktop/COSC/2. Instance SegmentationYOLO11/BRAIN-TUMOR.v1i.yolov11/test/images/y359_jpg.rf.c81649fe5602293c1cd5327757fb5701.jpg: 640x640 1 tumor, 10.4ms\n",
      "image 74/128 /home/rhichard-koh/Desktop/COSC/2. Instance SegmentationYOLO11/BRAIN-TUMOR.v1i.yolov11/test/images/y35_jpg.rf.3d00a2a2b1b202ca9ec89edac7726e96.jpg: 640x640 1 tumor, 9.5ms\n",
      "image 75/128 /home/rhichard-koh/Desktop/COSC/2. Instance SegmentationYOLO11/BRAIN-TUMOR.v1i.yolov11/test/images/y35_jpg.rf.76cc499ca120715b4aa08c9acd6e0868.jpg: 640x640 1 tumor, 11.1ms\n",
      "image 76/128 /home/rhichard-koh/Desktop/COSC/2. Instance SegmentationYOLO11/BRAIN-TUMOR.v1i.yolov11/test/images/y360_jpg.rf.057491d53fb9cb2760372e472999af54.jpg: 640x640 2 tumors, 12.6ms\n",
      "image 77/128 /home/rhichard-koh/Desktop/COSC/2. Instance SegmentationYOLO11/BRAIN-TUMOR.v1i.yolov11/test/images/y361_jpg.rf.284a4d14564ded7dec82fbda78a236fb.jpg: 640x640 1 tumor, 10.2ms\n",
      "image 78/128 /home/rhichard-koh/Desktop/COSC/2. Instance SegmentationYOLO11/BRAIN-TUMOR.v1i.yolov11/test/images/y365_jpg.rf.4ac18bf14af9c611418ffa5836bbca3c.jpg: 640x640 1 tumor, 9.4ms\n",
      "image 79/128 /home/rhichard-koh/Desktop/COSC/2. Instance SegmentationYOLO11/BRAIN-TUMOR.v1i.yolov11/test/images/y367_jpg.rf.3117f64cdcd674214d8c291e79f2af2d.jpg: 640x640 1 tumor, 9.1ms\n",
      "image 80/128 /home/rhichard-koh/Desktop/COSC/2. Instance SegmentationYOLO11/BRAIN-TUMOR.v1i.yolov11/test/images/y370_jpg.rf.1bfb96b99090833236b7a8e639183b22.jpg: 640x640 2 tumors, 10.2ms\n",
      "image 81/128 /home/rhichard-koh/Desktop/COSC/2. Instance SegmentationYOLO11/BRAIN-TUMOR.v1i.yolov11/test/images/y370_jpg.rf.49a2132343dd030366db6cb621aee362.jpg: 640x640 1 tumor, 10.3ms\n",
      "image 82/128 /home/rhichard-koh/Desktop/COSC/2. Instance SegmentationYOLO11/BRAIN-TUMOR.v1i.yolov11/test/images/y376_jpg.rf.3af3f7d3d3358a3aec1a196c872650a1.jpg: 640x640 1 tumor, 9.7ms\n",
      "image 83/128 /home/rhichard-koh/Desktop/COSC/2. Instance SegmentationYOLO11/BRAIN-TUMOR.v1i.yolov11/test/images/y382_jpg.rf.a6190a4c17f4738c239beba37d5b6a67.jpg: 640x640 1 tumor, 10.3ms\n",
      "image 84/128 /home/rhichard-koh/Desktop/COSC/2. Instance SegmentationYOLO11/BRAIN-TUMOR.v1i.yolov11/test/images/y382_jpg.rf.e87699c15461277e22e0e31633c99a60.jpg: 640x640 1 tumor, 10.1ms\n",
      "image 85/128 /home/rhichard-koh/Desktop/COSC/2. Instance SegmentationYOLO11/BRAIN-TUMOR.v1i.yolov11/test/images/y385_jpg.rf.65ff1df13afde4b647dfe3af5d130ecb.jpg: 640x640 1 tumor, 9.2ms\n",
      "image 86/128 /home/rhichard-koh/Desktop/COSC/2. Instance SegmentationYOLO11/BRAIN-TUMOR.v1i.yolov11/test/images/y386_jpg.rf.ab0836b5fb25b46491536433ea5146d5.jpg: 640x640 1 tumor, 10.0ms\n",
      "image 87/128 /home/rhichard-koh/Desktop/COSC/2. Instance SegmentationYOLO11/BRAIN-TUMOR.v1i.yolov11/test/images/y387_jpg.rf.2e8c6d2e760b2d1298ba0afeb6c511bb.jpg: 640x640 1 tumor, 11.4ms\n",
      "image 88/128 /home/rhichard-koh/Desktop/COSC/2. Instance SegmentationYOLO11/BRAIN-TUMOR.v1i.yolov11/test/images/y387_jpg.rf.bda343dd57e6fd2128be3bfd0724ff3e.jpg: 640x640 1 tumor, 12.3ms\n",
      "image 89/128 /home/rhichard-koh/Desktop/COSC/2. Instance SegmentationYOLO11/BRAIN-TUMOR.v1i.yolov11/test/images/y388_jpg.rf.24fd52c1be8a51568bab15139006de50.jpg: 640x640 1 tumor, 10.3ms\n",
      "image 90/128 /home/rhichard-koh/Desktop/COSC/2. Instance SegmentationYOLO11/BRAIN-TUMOR.v1i.yolov11/test/images/y38_jpg.rf.97f18dd8238f0aeede9d357d7e2be177.jpg: 640x640 1 tumor, 9.4ms\n",
      "image 91/128 /home/rhichard-koh/Desktop/COSC/2. Instance SegmentationYOLO11/BRAIN-TUMOR.v1i.yolov11/test/images/y392_jpg.rf.07d1857bffe48b46d5d413d304bb8827.jpg: 640x640 1 tumor, 9.5ms\n",
      "image 92/128 /home/rhichard-koh/Desktop/COSC/2. Instance SegmentationYOLO11/BRAIN-TUMOR.v1i.yolov11/test/images/y392_jpg.rf.b3241f0196180b09d55fd9737f769210.jpg: 640x640 1 tumor, 10.9ms\n",
      "image 93/128 /home/rhichard-koh/Desktop/COSC/2. Instance SegmentationYOLO11/BRAIN-TUMOR.v1i.yolov11/test/images/y392_jpg.rf.b38e5275b07d6bade3541e650455f8b6.jpg: 640x640 1 tumor, 9.9ms\n",
      "image 94/128 /home/rhichard-koh/Desktop/COSC/2. Instance SegmentationYOLO11/BRAIN-TUMOR.v1i.yolov11/test/images/y393_jpg.rf.ae00849a874b0669ac61aafcc6cbbe02.jpg: 640x640 1 tumor, 9.1ms\n",
      "image 95/128 /home/rhichard-koh/Desktop/COSC/2. Instance SegmentationYOLO11/BRAIN-TUMOR.v1i.yolov11/test/images/y399_jpg.rf.f8dc34cf090ec6e644adeb72087ae652.jpg: 640x640 1 tumor, 10.1ms\n",
      "image 96/128 /home/rhichard-koh/Desktop/COSC/2. Instance SegmentationYOLO11/BRAIN-TUMOR.v1i.yolov11/test/images/y401_jpg.rf.a91acc49a9427b0ebf276707191cf007.jpg: 640x640 1 tumor, 10.3ms\n",
      "image 97/128 /home/rhichard-koh/Desktop/COSC/2. Instance SegmentationYOLO11/BRAIN-TUMOR.v1i.yolov11/test/images/y404_jpg.rf.a223746d99c23fb067010693eac2ecc0.jpg: 640x640 1 tumor, 9.9ms\n",
      "image 98/128 /home/rhichard-koh/Desktop/COSC/2. Instance SegmentationYOLO11/BRAIN-TUMOR.v1i.yolov11/test/images/y409_jpg.rf.3f28f647f62a2550a14652f68f310ded.jpg: 640x640 1 tumor, 9.8ms\n",
      "image 99/128 /home/rhichard-koh/Desktop/COSC/2. Instance SegmentationYOLO11/BRAIN-TUMOR.v1i.yolov11/test/images/y412_jpg.rf.04268fa3b5997e5b9a52732d1371af32.jpg: 640x640 1 tumor, 10.2ms\n",
      "image 100/128 /home/rhichard-koh/Desktop/COSC/2. Instance SegmentationYOLO11/BRAIN-TUMOR.v1i.yolov11/test/images/y414_jpg.rf.cfbe89a72e8b68d0a452f002a77b448d.jpg: 640x640 1 tumor, 9.4ms\n",
      "image 101/128 /home/rhichard-koh/Desktop/COSC/2. Instance SegmentationYOLO11/BRAIN-TUMOR.v1i.yolov11/test/images/y420_jpg.rf.993b0cef06ec050fc611b6cf549f6883.jpg: 640x640 1 tumor, 9.4ms\n",
      "image 102/128 /home/rhichard-koh/Desktop/COSC/2. Instance SegmentationYOLO11/BRAIN-TUMOR.v1i.yolov11/test/images/y421_jpg.rf.4754ed51c50c08484cd29f3d18bfaff5.jpg: 640x640 1 tumor, 10.5ms\n",
      "image 103/128 /home/rhichard-koh/Desktop/COSC/2. Instance SegmentationYOLO11/BRAIN-TUMOR.v1i.yolov11/test/images/y427_jpg.rf.6e0441a79e177b1c4425656ad1702c03.jpg: 640x640 3 tumors, 9.7ms\n",
      "image 104/128 /home/rhichard-koh/Desktop/COSC/2. Instance SegmentationYOLO11/BRAIN-TUMOR.v1i.yolov11/test/images/y42_jpg.rf.3c4cefb531ce26bb86ba7f832dd3151f.jpg: 640x640 1 tumor, 9.3ms\n",
      "image 105/128 /home/rhichard-koh/Desktop/COSC/2. Instance SegmentationYOLO11/BRAIN-TUMOR.v1i.yolov11/test/images/y434_jpg.rf.743f730a289ac31362ce15e2de73a533.jpg: 640x640 1 tumor, 10.4ms\n",
      "image 106/128 /home/rhichard-koh/Desktop/COSC/2. Instance SegmentationYOLO11/BRAIN-TUMOR.v1i.yolov11/test/images/y435_jpg.rf.ef16422b7b940ced6353ab2d1b88ecbc.jpg: 640x640 1 tumor, 9.6ms\n",
      "image 107/128 /home/rhichard-koh/Desktop/COSC/2. Instance SegmentationYOLO11/BRAIN-TUMOR.v1i.yolov11/test/images/y437_jpg.rf.0ef77e16f9c17d598e3a32fa4ebb0674.jpg: 640x640 1 tumor, 11.4ms\n",
      "image 108/128 /home/rhichard-koh/Desktop/COSC/2. Instance SegmentationYOLO11/BRAIN-TUMOR.v1i.yolov11/test/images/y437_jpg.rf.aa78cff0a474b9717cdf030142d90959.jpg: 640x640 1 tumor, 9.5ms\n",
      "image 109/128 /home/rhichard-koh/Desktop/COSC/2. Instance SegmentationYOLO11/BRAIN-TUMOR.v1i.yolov11/test/images/y438_jpg.rf.66a24d9d30c35d724bb92961d4e109b1.jpg: 640x640 2 tumors, 9.5ms\n",
      "image 110/128 /home/rhichard-koh/Desktop/COSC/2. Instance SegmentationYOLO11/BRAIN-TUMOR.v1i.yolov11/test/images/y439_jpg.rf.21a93c7415bef9bd9897bff99d551dab.jpg: 640x640 1 tumor, 10.3ms\n",
      "image 111/128 /home/rhichard-koh/Desktop/COSC/2. Instance SegmentationYOLO11/BRAIN-TUMOR.v1i.yolov11/test/images/y43_jpg.rf.34ebdb1efac284be09ee5ba1156a675d.jpg: 640x640 1 tumor, 9.2ms\n",
      "image 112/128 /home/rhichard-koh/Desktop/COSC/2. Instance SegmentationYOLO11/BRAIN-TUMOR.v1i.yolov11/test/images/y43_jpg.rf.81952017c3c5f275f5b77f340811ed0b.jpg: 640x640 1 tumor, 10.1ms\n",
      "image 113/128 /home/rhichard-koh/Desktop/COSC/2. Instance SegmentationYOLO11/BRAIN-TUMOR.v1i.yolov11/test/images/y440_jpg.rf.45350b8b64fa3d3c38f6c3261fb19cb3.jpg: 640x640 1 tumor, 10.3ms\n",
      "image 114/128 /home/rhichard-koh/Desktop/COSC/2. Instance SegmentationYOLO11/BRAIN-TUMOR.v1i.yolov11/test/images/y440_jpg.rf.ebf6afd15aa170b52cfb873cc319478d.jpg: 640x640 1 tumor, 9.5ms\n",
      "image 115/128 /home/rhichard-koh/Desktop/COSC/2. Instance SegmentationYOLO11/BRAIN-TUMOR.v1i.yolov11/test/images/y447_jpg.rf.627c767da8f709148d82c9032148431d.jpg: 640x640 1 tumor, 9.8ms\n",
      "image 116/128 /home/rhichard-koh/Desktop/COSC/2. Instance SegmentationYOLO11/BRAIN-TUMOR.v1i.yolov11/test/images/y449_jpg.rf.0c01fbaa972e2532cac865488c8a1a91.jpg: 640x640 1 tumor, 10.2ms\n",
      "image 117/128 /home/rhichard-koh/Desktop/COSC/2. Instance SegmentationYOLO11/BRAIN-TUMOR.v1i.yolov11/test/images/y44_jpg.rf.40a61dea8a10dcccb5543764a95e037e.jpg: 640x640 1 tumor, 9.1ms\n",
      "image 118/128 /home/rhichard-koh/Desktop/COSC/2. Instance SegmentationYOLO11/BRAIN-TUMOR.v1i.yolov11/test/images/y450_jpg.rf.c74ace795243473fecba91d54c92afd0.jpg: 640x640 1 tumor, 10.1ms\n",
      "image 119/128 /home/rhichard-koh/Desktop/COSC/2. Instance SegmentationYOLO11/BRAIN-TUMOR.v1i.yolov11/test/images/y451_jpg.rf.c4b7f6f424d56f32061d2ce730484ead.jpg: 640x640 1 tumor, 10.7ms\n",
      "image 120/128 /home/rhichard-koh/Desktop/COSC/2. Instance SegmentationYOLO11/BRAIN-TUMOR.v1i.yolov11/test/images/y454_jpg.rf.e917e88c376928ebe5ac0b48b9b2752d.jpg: 640x640 1 tumor, 9.1ms\n",
      "image 121/128 /home/rhichard-koh/Desktop/COSC/2. Instance SegmentationYOLO11/BRAIN-TUMOR.v1i.yolov11/test/images/y457_jpg.rf.3b8c7187ef5ec89130ade8ab0eefe95b.jpg: 640x640 1 tumor, 10.1ms\n",
      "image 122/128 /home/rhichard-koh/Desktop/COSC/2. Instance SegmentationYOLO11/BRAIN-TUMOR.v1i.yolov11/test/images/y466_jpg.rf.38d0b8c9196d02d0502614366c525d21.jpg: 640x640 1 tumor, 10.6ms\n",
      "image 123/128 /home/rhichard-koh/Desktop/COSC/2. Instance SegmentationYOLO11/BRAIN-TUMOR.v1i.yolov11/test/images/y479_jpg.rf.8e6228a8ac6a976917d4e7bc95cd640e.jpg: 640x640 1 tumor, 9.8ms\n",
      "image 124/128 /home/rhichard-koh/Desktop/COSC/2. Instance SegmentationYOLO11/BRAIN-TUMOR.v1i.yolov11/test/images/y482_jpg.rf.54c9591bdb6b96d0abd712e488f41150.jpg: 640x640 1 tumor, 9.8ms\n",
      "image 125/128 /home/rhichard-koh/Desktop/COSC/2. Instance SegmentationYOLO11/BRAIN-TUMOR.v1i.yolov11/test/images/y490_jpg.rf.940281d10c9fba56616d49be40e4f001.jpg: 640x640 1 tumor, 10.3ms\n",
      "image 126/128 /home/rhichard-koh/Desktop/COSC/2. Instance SegmentationYOLO11/BRAIN-TUMOR.v1i.yolov11/test/images/y497_jpg.rf.9252aa7a93b66f2adc3330f88df58494.jpg: 640x640 1 tumor, 9.1ms\n",
      "image 127/128 /home/rhichard-koh/Desktop/COSC/2. Instance SegmentationYOLO11/BRAIN-TUMOR.v1i.yolov11/test/images/y500_jpg.rf.532d7c3e054bd3627b215d3662672792.jpg: 640x640 1 tumor, 9.4ms\n",
      "image 128/128 /home/rhichard-koh/Desktop/COSC/2. Instance SegmentationYOLO11/BRAIN-TUMOR.v1i.yolov11/test/images/y53_jpg.rf.963a2f0765b428444ef22d73ad4b380e.jpg: 640x640 1 tumor, 10.4ms\n",
      "Speed: 2.1ms preprocess, 10.1ms inference, 3.1ms postprocess per image at shape (1, 3, 640, 640)\n",
      "Results saved to \u001b[1mruns/segment/predict2\u001b[0m\n"
     ]
    }
   ],
   "source": [
    "model = YOLO('runs/segment/train3/weights/best.pt')\n",
    "results = model(\"BRAIN-TUMOR.v1i.yolov11/test/images\", save=True)\n"
   ]
  },
  {
   "cell_type": "code",
   "execution_count": null,
   "id": "4bbf208d-9c7c-44bf-86ba-1664041b8076",
   "metadata": {},
   "outputs": [],
   "source": []
  }
 ],
 "metadata": {
  "kernelspec": {
   "display_name": ".venv",
   "language": "python",
   "name": "python3"
  },
  "language_info": {
   "codemirror_mode": {
    "name": "ipython",
    "version": 3
   },
   "file_extension": ".py",
   "mimetype": "text/x-python",
   "name": "python",
   "nbconvert_exporter": "python",
   "pygments_lexer": "ipython3",
   "version": "3.12.3"
  }
 },
 "nbformat": 4,
 "nbformat_minor": 5
}
